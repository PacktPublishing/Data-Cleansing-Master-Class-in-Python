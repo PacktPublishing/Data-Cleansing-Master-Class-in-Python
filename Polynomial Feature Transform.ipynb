{
 "cells": [
  {
   "cell_type": "code",
   "execution_count": 1,
   "metadata": {},
   "outputs": [
    {
     "name": "stdout",
     "output_type": "stream",
     "text": [
      "[[2 3]\n",
      " [2 3]\n",
      " [2 3]]\n",
      "[[1. 2. 3. 4. 6. 9.]\n",
      " [1. 2. 3. 4. 6. 9.]\n",
      " [1. 2. 3. 4. 6. 9.]]\n"
     ]
    }
   ],
   "source": [
    "# demonstrate the types of features created\n",
    "from numpy import asarray\n",
    "from sklearn.preprocessing import PolynomialFeatures\n",
    "# define the dataset\n",
    "data = asarray([[2,3],[2,3],[2,3]])\n",
    "print(data)\n",
    "# perform a polynomial features transform of the dataset\n",
    "trans = PolynomialFeatures(degree=2)\n",
    "data = trans.fit_transform(data)\n",
    "print(data)"
   ]
  },
  {
   "cell_type": "code",
   "execution_count": 2,
   "metadata": {},
   "outputs": [
    {
     "name": "stdout",
     "output_type": "stream",
     "text": [
      "Accuracy: 0.797 (0.073)\n"
     ]
    }
   ],
   "source": [
    "# evaluate knn on the raw sonar dataset\n",
    "from numpy import mean\n",
    "from numpy import std\n",
    "from pandas import read_csv\n",
    "from sklearn.model_selection import cross_val_score\n",
    "from sklearn.model_selection import RepeatedStratifiedKFold\n",
    "from sklearn.neighbors import KNeighborsClassifier\n",
    "from sklearn.preprocessing import LabelEncoder\n",
    "# load dataset\n",
    "dataset = read_csv('sonar.csv', header=None)\n",
    "data = dataset.values\n",
    "# separate into input and output columns\n",
    "X, y = data[:, :-1], data[:, -1]\n",
    "# ensure inputs are floats and output is an integer label\n",
    "X = X.astype('float32')\n",
    "y = LabelEncoder().fit_transform(y.astype('str'))\n",
    "# define and configure the model\n",
    "model = KNeighborsClassifier()\n",
    "# evaluate the model\n",
    "cv = RepeatedStratifiedKFold(n_splits=10, n_repeats=3, random_state=1)\n",
    "n_scores = cross_val_score(model, X, y, scoring='accuracy', cv=cv, n_jobs=-1)\n",
    "# report model performance\n",
    "print('Accuracy: %.3f (%.3f)' % (mean(n_scores), std(n_scores)))"
   ]
  },
  {
   "cell_type": "code",
   "execution_count": 3,
   "metadata": {},
   "outputs": [
    {
     "name": "stdout",
     "output_type": "stream",
     "text": [
      "(208, 39711)\n"
     ]
    }
   ],
   "source": [
    "# visualize a polynomial features transform of the sonar dataset\n",
    "from pandas import read_csv\n",
    "from pandas import DataFrame\n",
    "from sklearn.preprocessing import PolynomialFeatures\n",
    "# load dataset\n",
    "dataset = read_csv('sonar.csv', header=None)\n",
    "# retrieve just the numeric input values\n",
    "data = dataset.values[:, :-1]\n",
    "# perform a polynomial features transform of the dataset\n",
    "trans = PolynomialFeatures(degree=3)\n",
    "data = trans.fit_transform(data)\n",
    "# convert the array back to a dataframe\n",
    "dataset = DataFrame(data)\n",
    "# summarize\n",
    "print(dataset.shape)"
   ]
  },
  {
   "cell_type": "code",
   "execution_count": 4,
   "metadata": {},
   "outputs": [
    {
     "name": "stdout",
     "output_type": "stream",
     "text": [
      "Accuracy: 0.800 (0.077)\n"
     ]
    }
   ],
   "source": [
    "# evaluate knn on the sonar dataset with polynomial features transform\n",
    "from numpy import mean\n",
    "from numpy import std\n",
    "from pandas import read_csv\n",
    "from sklearn.model_selection import cross_val_score\n",
    "from sklearn.model_selection import RepeatedStratifiedKFold\n",
    "from sklearn.neighbors import KNeighborsClassifier\n",
    "from sklearn.preprocessing import LabelEncoder\n",
    "from sklearn.preprocessing import PolynomialFeatures\n",
    "from sklearn.pipeline import Pipeline\n",
    "# load dataset\n",
    "dataset = read_csv('sonar.csv', header=None)\n",
    "data = dataset.values\n",
    "# separate into input and output columns\n",
    "X, y = data[:, :-1], data[:, -1]\n",
    "# ensure inputs are floats and output is an integer label\n",
    "X = X.astype('float32')\n",
    "y = LabelEncoder().fit_transform(y.astype('str'))\n",
    "# define the pipeline\n",
    "trans = PolynomialFeatures(degree=3)\n",
    "model = KNeighborsClassifier()\n",
    "pipeline = Pipeline(steps=[('t', trans), ('m', model)])\n",
    "# evaluate the pipeline\n",
    "cv = RepeatedStratifiedKFold(n_splits=10, n_repeats=3, random_state=1)\n",
    "n_scores = cross_val_score(pipeline, X, y, scoring='accuracy', cv=cv, n_jobs=-1)\n",
    "# report pipeline performance\n",
    "print('Accuracy: %.3f (%.3f)' % (mean(n_scores), std(n_scores)))"
   ]
  },
  {
   "cell_type": "code",
   "execution_count": 6,
   "metadata": {},
   "outputs": [
    {
     "name": "stdout",
     "output_type": "stream",
     "text": [
      "Degree: 1, Features: 61\n",
      "Degree: 2, Features: 1891\n",
      "Degree: 3, Features: 39711\n",
      "Degree: 4, Features: 635376\n",
      "Degree: 5, Features: 8259888\n"
     ]
    },
    {
     "data": {
      "image/png": "[encoded data removed]",
      "text/plain": [
       "<matplotlib.figure.Figure at 0x1ba46e6d1d0>"
      ]
     },
     "metadata": {
      "needs_background": "light"
     },
     "output_type": "display_data"
    }
   ],
   "source": [
    "# compare the effect of the degree on the number of created features\n",
    "from pandas import read_csv\n",
    "from sklearn.preprocessing import LabelEncoder\n",
    "from sklearn.preprocessing import PolynomialFeatures\n",
    "from matplotlib import pyplot\n",
    " \n",
    "# get the dataset\n",
    "def get_dataset():\n",
    "\t# load dataset\n",
    "\turl = \"https://raw.githubusercontent.com/jbrownlee/Datasets/master/sonar.csv\"\n",
    "\tdataset = read_csv(url, header=None)\n",
    "\tdata = dataset.values\n",
    "\t# separate into input and output columns\n",
    "\tX, y = data[:, :-1], data[:, -1]\n",
    "\t# ensure inputs are floats and output is an integer label\n",
    "\tX = X.astype('float32')\n",
    "\ty = LabelEncoder().fit_transform(y.astype('str'))\n",
    "\treturn X, y\n",
    " \n",
    "# define dataset\n",
    "X, y = get_dataset()\n",
    "# calculate change in number of features\n",
    "num_features = list()\n",
    "degress = [i for i in range(1, 6)]\n",
    "for d in degress:\n",
    "\t# create transform\n",
    "\ttrans = PolynomialFeatures(degree=d)\n",
    "\t# fit and transform\n",
    "\tdata = trans.fit_transform(X)\n",
    "\t# record number of features\n",
    "\tnum_features.append(data.shape[1])\n",
    "\t# summarize\n",
    "\tprint('Degree: %d, Features: %d' % (d, data.shape[1]))\n",
    "# plot degree vs number of features\n",
    "pyplot.plot(degress, num_features)\n",
    "pyplot.show()"
   ]
  },
  {
   "cell_type": "code",
   "execution_count": 7,
   "metadata": {},
   "outputs": [
    {
     "name": "stdout",
     "output_type": "stream",
     "text": [
      ">1 0.797 (0.073)\n",
      ">2 0.793 (0.085)\n",
      ">3 0.800 (0.077)\n",
      ">4 0.795 (0.079)\n"
     ]
    },
    {
     "data": {
      "image/png": "[encoded data removed]",
      "text/plain": [
       "<matplotlib.figure.Figure at 0x1ba4803e6a0>"
      ]
     },
     "metadata": {
      "needs_background": "light"
     },
     "output_type": "display_data"
    }
   ],
   "source": [
    "# explore the effect of degree on accuracy for the polynomial features transform\n",
    "from numpy import mean\n",
    "from numpy import std\n",
    "from pandas import read_csv\n",
    "from sklearn.model_selection import cross_val_score\n",
    "from sklearn.model_selection import RepeatedStratifiedKFold\n",
    "from sklearn.neighbors import KNeighborsClassifier\n",
    "from sklearn.preprocessing import PolynomialFeatures\n",
    "from sklearn.preprocessing import LabelEncoder\n",
    "from sklearn.pipeline import Pipeline\n",
    "from matplotlib import pyplot\n",
    " \n",
    "# get the dataset\n",
    "def get_dataset():\n",
    "\t# load dataset\n",
    "\turl = \"https://raw.githubusercontent.com/jbrownlee/Datasets/master/sonar.csv\"\n",
    "\tdataset = read_csv(url, header=None)\n",
    "\tdata = dataset.values\n",
    "\t# separate into input and output columns\n",
    "\tX, y = data[:, :-1], data[:, -1]\n",
    "\t# ensure inputs are floats and output is an integer label\n",
    "\tX = X.astype('float32')\n",
    "\ty = LabelEncoder().fit_transform(y.astype('str'))\n",
    "\treturn X, y\n",
    " \n",
    "# get a list of models to evaluate\n",
    "def get_models():\n",
    "\tmodels = dict()\n",
    "\tfor d in range(1,5):\n",
    "\t\t# define the pipeline\n",
    "\t\ttrans = PolynomialFeatures(degree=d)\n",
    "\t\tmodel = KNeighborsClassifier()\n",
    "\t\tmodels[str(d)] = Pipeline(steps=[('t', trans), ('m', model)])\n",
    "\treturn models\n",
    " \n",
    "# evaluate a give model using cross-validation\n",
    "def evaluate_model(model, X, y):\n",
    "\tcv = RepeatedStratifiedKFold(n_splits=10, n_repeats=3, random_state=1)\n",
    "\tscores = cross_val_score(model, X, y, scoring='accuracy', cv=cv, n_jobs=-1, error_score='raise')\n",
    "\treturn scores\n",
    " \n",
    "# define dataset\n",
    "X, y = get_dataset()\n",
    "# get the models to evaluate\n",
    "models = get_models()\n",
    "# evaluate the models and store results\n",
    "results, names = list(), list()\n",
    "for name, model in models.items():\n",
    "\tscores = evaluate_model(model, X, y)\n",
    "\tresults.append(scores)\n",
    "\tnames.append(name)\n",
    "\tprint('>%s %.3f (%.3f)' % (name, mean(scores), std(scores)))\n",
    "# plot model performance for comparison\n",
    "pyplot.boxplot(results, labels=names, showmeans=True)\n",
    "pyplot.show()"
   ]
  },
  {
   "cell_type": "code",
   "execution_count": null,
   "metadata": {},
   "outputs": [],
   "source": []
  }
 ],
 "metadata": {
  "kernelspec": {
   "display_name": "Python 3",
   "language": "python",
   "name": "python3"
  },
  "language_info": {
   "codemirror_mode": {
    "name": "ipython",
    "version": 3
   },
   "file_extension": ".py",
   "mimetype": "text/x-python",
   "name": "python",
   "nbconvert_exporter": "python",
   "pygments_lexer": "ipython3",
   "version": "3.6.4"
  }
 },
 "nbformat": 4,
 "nbformat_minor": 2
}
